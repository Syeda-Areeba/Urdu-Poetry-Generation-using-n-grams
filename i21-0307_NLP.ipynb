{
 "cells": [
  {
   "cell_type": "markdown",
   "id": "d5ac6bfb",
   "metadata": {},
   "source": [
    "Name : Syeda Areeba Nadeem <br>\n",
    "Roll no.: 21I-0307 <br>\n",
    "Section: BS(AI) - K"
   ]
  },
  {
   "cell_type": "code",
   "execution_count": 1,
   "id": "ea1cb6c5",
   "metadata": {},
   "outputs": [],
   "source": [
    "import json\n",
    "import random\n",
    "from collections import Counter\n",
    "import pandas as pd\n",
    "import numpy as np\n",
    "import math"
   ]
  },
  {
   "cell_type": "markdown",
   "id": "5021cdb3",
   "metadata": {},
   "source": [
    "# Reading Data"
   ]
  },
  {
   "cell_type": "code",
   "execution_count": 2,
   "id": "b9563946",
   "metadata": {},
   "outputs": [],
   "source": [
    "def read_data(file_path):\n",
    "    poems_data = None\n",
    "    with open(file_path, 'r', encoding='utf-8') as file:\n",
    "        poems_data = json.load(file)\n",
    "    return poems_data"
   ]
  },
  {
   "cell_type": "code",
   "execution_count": 3,
   "id": "10ffe029",
   "metadata": {},
   "outputs": [
    {
     "name": "stdout",
     "output_type": "stream",
     "text": [
      "Number of Poems: 484\n"
     ]
    },
    {
     "data": {
      "text/plain": [
       "{'poet_name': 'فیض احمد فیض',\n",
       " 'poem_name': 'ہم پر تمہاری چاہ کا الزام ہی تو ہے',\n",
       " 'poem_lines': ['ہم پر تمہاری چاہ کا الزام ہی تو ہے',\n",
       "  'دشنام تو نہیں ہے یہ اکرام ہی تو ہے',\n",
       "  'کرتے ہیں جس پہ طعن کوئی جرم تو نہیں',\n",
       "  'شوق فضول و الفت ناکام ہی تو ہے',\n",
       "  'دل مدعی کے حرف ملامت سے شاد ہے',\n",
       "  'اے جان جاں یہ حرف ترا نام ہی تو ہے',\n",
       "  'دل ناامید تو نہیں ناکام ہی تو ہے',\n",
       "  'لمبی ہے غم کی شام مگر شام ہی تو ہے',\n",
       "  'دست فلک میں گردش تقدیر تو نہیں',\n",
       "  'دست فلک میں گردش ایام ہی تو ہے',\n",
       "  'آخر تو ایک روز کرے گی نظر وفا',\n",
       "  'وہ یار خوش خصال سر بام ہی تو ہے',\n",
       "  'بھیگی ہے رات فیضؔ غزل ابتدا کرو',\n",
       "  'وقت سرود درد کا ہنگام ہی تو ہے']}"
      ]
     },
     "execution_count": 3,
     "metadata": {},
     "output_type": "execute_result"
    }
   ],
   "source": [
    "PATH = 'poems_data.json'\n",
    "\n",
    "poems_data = read_data(PATH)\n",
    "print(f\"Number of Poems: {len(poems_data)}\")\n",
    "poems_data[0]"
   ]
  },
  {
   "cell_type": "markdown",
   "id": "eb058057",
   "metadata": {},
   "source": [
    "# Converting JSON data to CSV"
   ]
  },
  {
   "cell_type": "code",
   "execution_count": 4,
   "id": "f422777c",
   "metadata": {},
   "outputs": [],
   "source": [
    "df = pd.DataFrame(columns=['Poet name', 'Poem name', 'Poem'])\n",
    "for idx, poem in enumerate(poems_data):\n",
    "    df.loc[idx, 'Poet name'] = poem['poet_name']\n",
    "    df.loc[idx, 'Poem name'] = poem['poem_name']\n",
    "    df.loc[idx, 'Poem'] = '\\n'.join(poem['poem_lines'])\n",
    "    \n",
    "df.to_csv('Poems_data.csv', index=False)"
   ]
  },
  {
   "cell_type": "code",
   "execution_count": 5,
   "id": "20f8c4cc",
   "metadata": {},
   "outputs": [
    {
     "data": {
      "text/html": [
       "<div>\n",
       "<style scoped>\n",
       "    .dataframe tbody tr th:only-of-type {\n",
       "        vertical-align: middle;\n",
       "    }\n",
       "\n",
       "    .dataframe tbody tr th {\n",
       "        vertical-align: top;\n",
       "    }\n",
       "\n",
       "    .dataframe thead th {\n",
       "        text-align: right;\n",
       "    }\n",
       "</style>\n",
       "<table border=\"1\" class=\"dataframe\">\n",
       "  <thead>\n",
       "    <tr style=\"text-align: right;\">\n",
       "      <th></th>\n",
       "      <th>Poet name</th>\n",
       "      <th>Poem name</th>\n",
       "      <th>Poem</th>\n",
       "    </tr>\n",
       "  </thead>\n",
       "  <tbody>\n",
       "    <tr>\n",
       "      <th>0</th>\n",
       "      <td>فیض احمد فیض</td>\n",
       "      <td>ہم پر تمہاری چاہ کا الزام ہی تو ہے</td>\n",
       "      <td>ہم پر تمہاری چاہ کا الزام ہی تو ہے\\nدشنام تو ن...</td>\n",
       "    </tr>\n",
       "    <tr>\n",
       "      <th>1</th>\n",
       "      <td>فیض احمد فیض</td>\n",
       "      <td>دونوں جہان تیری محبت میں ہار کے</td>\n",
       "      <td>دونوں جہان تیری محبت میں ہار کے\\nوہ جا رہا ہے ...</td>\n",
       "    </tr>\n",
       "    <tr>\n",
       "      <th>2</th>\n",
       "      <td>کیف احمد صدیقی</td>\n",
       "      <td>ہو گئے ناکام تو پچھتائیں کیا</td>\n",
       "      <td>ہو گئے ناکام تو پچھتائیں کیا\\nدوستوں کے سامنے ...</td>\n",
       "    </tr>\n",
       "    <tr>\n",
       "      <th>3</th>\n",
       "      <td>آنس معین</td>\n",
       "      <td>ہو جائے گی جب تم سے شناسائی ذرا اور</td>\n",
       "      <td>ہو جائے گی جب تم سے شناسائی ذرا اور\\nبڑھ جائے ...</td>\n",
       "    </tr>\n",
       "    <tr>\n",
       "      <th>4</th>\n",
       "      <td>خورشید اکبر</td>\n",
       "      <td>گھر بار کہاں کوچہ و بازار مری جاں</td>\n",
       "      <td>گھر بار کہاں کوچہ و بازار مری جاں\\nدرویش کو دن...</td>\n",
       "    </tr>\n",
       "    <tr>\n",
       "      <th>...</th>\n",
       "      <td>...</td>\n",
       "      <td>...</td>\n",
       "      <td>...</td>\n",
       "    </tr>\n",
       "    <tr>\n",
       "      <th>479</th>\n",
       "      <td>ایم کوٹھیاوی راہی</td>\n",
       "      <td>رستہ کسی وحشی کا ابھی دیکھ رہا ہے</td>\n",
       "      <td>رستہ کسی وحشی کا ابھی دیکھ رہا ہے\\nیہ پیڑ جو ا...</td>\n",
       "    </tr>\n",
       "    <tr>\n",
       "      <th>480</th>\n",
       "      <td>ایم کوٹھیاوی راہی</td>\n",
       "      <td>اک انجان راہ پر دونوں</td>\n",
       "      <td>اک انجان راہ پر دونوں\\nمل گئے آج بے خطر دونوں\\...</td>\n",
       "    </tr>\n",
       "    <tr>\n",
       "      <th>481</th>\n",
       "      <td>ایم کوٹھیاوی راہی</td>\n",
       "      <td>جلے گا چاند ستارے دھواں اڑائیں گے</td>\n",
       "      <td>جلے گا چاند ستارے دھواں اڑائیں گے\\nہمارے خواب ...</td>\n",
       "    </tr>\n",
       "    <tr>\n",
       "      <th>482</th>\n",
       "      <td>ایم کوٹھیاوی راہی</td>\n",
       "      <td>گھوموں نہیں تو کیا میں کہیں جا کے پڑ رہوں</td>\n",
       "      <td>گھوموں نہیں تو کیا میں کہیں جا کے پڑ رہوں\\nبیم...</td>\n",
       "    </tr>\n",
       "    <tr>\n",
       "      <th>483</th>\n",
       "      <td>ایم کوٹھیاوی راہی</td>\n",
       "      <td>ہجر کا چاند درد کی ندی</td>\n",
       "      <td>ہجر کا چاند درد کی ندی\\nیہی صورت ہے اپنی دنیا ...</td>\n",
       "    </tr>\n",
       "  </tbody>\n",
       "</table>\n",
       "<p>484 rows × 3 columns</p>\n",
       "</div>"
      ],
      "text/plain": [
       "             Poet name                                  Poem name  \\\n",
       "0         فیض احمد فیض         ہم پر تمہاری چاہ کا الزام ہی تو ہے   \n",
       "1         فیض احمد فیض            دونوں جہان تیری محبت میں ہار کے   \n",
       "2       کیف احمد صدیقی               ہو گئے ناکام تو پچھتائیں کیا   \n",
       "3            آنس معین        ہو جائے گی جب تم سے شناسائی ذرا اور   \n",
       "4          خورشید اکبر          گھر بار کہاں کوچہ و بازار مری جاں   \n",
       "..                 ...                                        ...   \n",
       "479  ایم کوٹھیاوی راہی          رستہ کسی وحشی کا ابھی دیکھ رہا ہے   \n",
       "480  ایم کوٹھیاوی راہی                      اک انجان راہ پر دونوں   \n",
       "481  ایم کوٹھیاوی راہی          جلے گا چاند ستارے دھواں اڑائیں گے   \n",
       "482  ایم کوٹھیاوی راہی  گھوموں نہیں تو کیا میں کہیں جا کے پڑ رہوں   \n",
       "483  ایم کوٹھیاوی راہی                     ہجر کا چاند درد کی ندی   \n",
       "\n",
       "                                                  Poem  \n",
       "0    ہم پر تمہاری چاہ کا الزام ہی تو ہے\\nدشنام تو ن...  \n",
       "1    دونوں جہان تیری محبت میں ہار کے\\nوہ جا رہا ہے ...  \n",
       "2    ہو گئے ناکام تو پچھتائیں کیا\\nدوستوں کے سامنے ...  \n",
       "3    ہو جائے گی جب تم سے شناسائی ذرا اور\\nبڑھ جائے ...  \n",
       "4    گھر بار کہاں کوچہ و بازار مری جاں\\nدرویش کو دن...  \n",
       "..                                                 ...  \n",
       "479  رستہ کسی وحشی کا ابھی دیکھ رہا ہے\\nیہ پیڑ جو ا...  \n",
       "480  اک انجان راہ پر دونوں\\nمل گئے آج بے خطر دونوں\\...  \n",
       "481  جلے گا چاند ستارے دھواں اڑائیں گے\\nہمارے خواب ...  \n",
       "482  گھوموں نہیں تو کیا میں کہیں جا کے پڑ رہوں\\nبیم...  \n",
       "483  ہجر کا چاند درد کی ندی\\nیہی صورت ہے اپنی دنیا ...  \n",
       "\n",
       "[484 rows x 3 columns]"
      ]
     },
     "execution_count": 5,
     "metadata": {},
     "output_type": "execute_result"
    }
   ],
   "source": [
    "df = pd.read_csv('./Poems_data.csv')\n",
    "df"
   ]
  },
  {
   "cell_type": "code",
   "execution_count": 6,
   "id": "6a814214",
   "metadata": {},
   "outputs": [
    {
     "name": "stdout",
     "output_type": "stream",
     "text": [
      "Number of Poets: 25\n",
      "Number of Poems: 479\n"
     ]
    }
   ],
   "source": [
    "print(f\"Number of Poets: {len(df['Poet name'].unique())}\")\n",
    "print(f\"Number of Poems: {len(df['Poem name'].unique())}\")"
   ]
  },
  {
   "cell_type": "markdown",
   "id": "2d6b8e29",
   "metadata": {},
   "source": [
    "# Starting & Ending words"
   ]
  },
  {
   "cell_type": "code",
   "execution_count": 7,
   "id": "1c18170c",
   "metadata": {},
   "outputs": [],
   "source": [
    "def get_start_end_words(Poems):\n",
    "    \n",
    "    STARTING_WORDS = []\n",
    "    ENDING_WORDS = []\n",
    "\n",
    "    for idx, poem in enumerate(Poems):\n",
    "        \n",
    "        start_words = [verse.split()[0] for verse in poem.split('\\n')]\n",
    "        end_words = [verse.split()[-1] for verse in poem.split('\\n')]\n",
    "        \n",
    "        STARTING_WORDS.extend(start_words)\n",
    "        ENDING_WORDS.extend(end_words)\n",
    "\n",
    "    # remove duplicates\n",
    "    STARTING_WORDS = list(set(STARTING_WORDS))\n",
    "    ENDING_WORDS = list(set(ENDING_WORDS))\n",
    "    \n",
    "    return STARTING_WORDS, ENDING_WORDS"
   ]
  },
  {
   "cell_type": "code",
   "execution_count": 8,
   "id": "e31a1294",
   "metadata": {},
   "outputs": [
    {
     "name": "stdout",
     "output_type": "stream",
     "text": [
      "Total number of starting words: 1815\n",
      "Total number of ending words: 1136\n"
     ]
    }
   ],
   "source": [
    "STARTING_WORDS = []\n",
    "ENDING_WORDS = []\n",
    "\n",
    "STARTING_WORDS, ENDING_WORDS = get_start_end_words(df['Poem'])\n",
    "print(f\"Total number of starting words: {len(STARTING_WORDS)}\")\n",
    "print(f\"Total number of ending words: {len(ENDING_WORDS)}\")"
   ]
  },
  {
   "cell_type": "markdown",
   "id": "bfbd6f5e",
   "metadata": {},
   "source": [
    "# N-grams generation"
   ]
  },
  {
   "cell_type": "code",
   "execution_count": 9,
   "id": "edad8da1",
   "metadata": {},
   "outputs": [],
   "source": [
    "def generate_n_grams(Poems, n, sep = ' '): \n",
    "    ngrams = []\n",
    "    \n",
    "    for idx, poem in enumerate(Poems):\n",
    "        words = poem.replace('\\n', ' ').split(sep)\n",
    "        \n",
    "        for idx in range(len(words) - n + 1):\n",
    "            n_gram = tuple(words[idx : idx + n])\n",
    "            ngrams.append(n_gram)\n",
    "            \n",
    "    return Counter(ngrams)"
   ]
  },
  {
   "cell_type": "code",
   "execution_count": 10,
   "id": "6b271b19",
   "metadata": {},
   "outputs": [],
   "source": [
    "def calculate_next_word_prob(next_word_candidates, n_1_words, n_grams, n_1_grams):\n",
    "    word_probs = []\n",
    "    \n",
    "    for word_n in next_word_candidates:\n",
    "        \n",
    "        if(type(n_1_words) == list):\n",
    "            n_gram = (*n_1_words, word_n)\n",
    "        else:\n",
    "            n_gram = (n_1_words, word_n)\n",
    "        \n",
    "        if n_gram in n_grams.keys():\n",
    "            \n",
    "            n_gram_count = n_grams[n_gram]  # count(n-1 words, word n)\n",
    "            \n",
    "            if(type(n_1_words) ==  list):\n",
    "                n_1_gram_count = n_1_grams.get((*n_1_words,))  # count(n-1 words)\n",
    "            else:\n",
    "                n_1_gram_count = n_1_grams.get((n_1_words,))  # count(n-1 words)\n",
    "\n",
    "            if (n_1_gram_count is not None and n_1_gram_count != 0):\n",
    "#                 probability = n_gram_count / n_1_gram_count \n",
    "                probability = (n_gram_count + 1) / (n_1_gram_count + len(unigrams))\n",
    "                word_probs.append((word_n, probability))\n",
    "            else:\n",
    "                word_probs.append((word_n, 0.0))\n",
    "        else:\n",
    "            probability = 1 / (n_1_gram_count + len(unigrams))\n",
    "#             word_probs.append((word_n, 0.0))\n",
    "\n",
    "#-------------------------------------------\n",
    "    if(next_word_candidates == []):\n",
    "        for word_n in unigrams.keys():\n",
    "            \n",
    "            word_n = word_n[0]\n",
    "            if(type(n_1_words) == list):\n",
    "                n_gram = (*n_1_words, word_n)\n",
    "            else:\n",
    "                n_gram = (n_1_words, word_n)\n",
    "\n",
    "            if n_gram in n_grams.keys():\n",
    "                n_gram_count = n_grams[n_gram]  # count(n-1 words, word n)\n",
    "            else:\n",
    "                n_gram_count = 1\n",
    "\n",
    "            if(type(n_1_words) ==  list):\n",
    "                n_1_gram_count = n_1_grams.get((*n_1_words,))  # count(n-1 words)\n",
    "            else:\n",
    "                n_1_gram_count = n_1_grams.get((n_1_words,))  # count(n-1 words)\n",
    "\n",
    "            if (n_1_gram_count is not None and n_1_gram_count != 0):\n",
    "                probability = (n_gram_count + 1) / (n_1_gram_count + len(unigrams))\n",
    "                word_probs.append((word_n, probability))\n",
    "            else:\n",
    "                word_probs.append((word_n, 0.0))\n",
    "#-------------------------------------\n",
    "            \n",
    "    # Sorting word_probs based on probabilities in descending order and then choosing randomly from top k words of them\n",
    "    k = 2\n",
    "    sorted_word_probs = sorted(word_probs, key=lambda x: x[1], reverse=True)\n",
    "    top_k_words = [word for word, _ in sorted_word_probs[:k]]\n",
    "    chosen_word = random.choice(top_k_words)\n",
    "    \n",
    "#     # Getting all words with the maximum probability and then choosing randomly from it if there are multiple words with highest probability\n",
    "#     max_prob = max(prob for _, prob in word_probs)\n",
    "#     max_prob_words = [word for word, prob in word_probs if prob == max_prob]\n",
    "#     chosen_word = random.choice(max_prob_words)\n",
    "\n",
    "    return chosen_word"
   ]
  },
  {
   "cell_type": "markdown",
   "id": "cd6341eb",
   "metadata": {},
   "source": [
    "## Unigrams"
   ]
  },
  {
   "cell_type": "code",
   "execution_count": 11,
   "id": "4078cfe5",
   "metadata": {},
   "outputs": [],
   "source": [
    "unigrams = generate_n_grams(df['Poem'], 1) \n",
    "# unigrams"
   ]
  },
  {
   "cell_type": "markdown",
   "id": "629c7dc3",
   "metadata": {},
   "source": [
    "## Bigrams"
   ]
  },
  {
   "cell_type": "code",
   "execution_count": 12,
   "id": "484214b5",
   "metadata": {
    "scrolled": true
   },
   "outputs": [],
   "source": [
    "bigrams = generate_n_grams(df['Poem'], 2)\n",
    "# bigrams"
   ]
  },
  {
   "cell_type": "markdown",
   "id": "522489cb",
   "metadata": {},
   "source": [
    "## Backward bigrams"
   ]
  },
  {
   "cell_type": "code",
   "execution_count": 13,
   "id": "b3727230",
   "metadata": {},
   "outputs": [],
   "source": [
    "def generate_backward_bigrams_from_forward(forward_bigrams):\n",
    "    backward_bigrams = {}\n",
    "    \n",
    "    for forward_bigram, frequency in forward_bigrams.items():\n",
    "        backward_bigram = (forward_bigram[1], forward_bigram[0])\n",
    "        backward_bigrams[backward_bigram] = frequency\n",
    "        \n",
    "    return backward_bigrams"
   ]
  },
  {
   "cell_type": "code",
   "execution_count": 14,
   "id": "ebae6912",
   "metadata": {},
   "outputs": [],
   "source": [
    "backward_bigrams = generate_backward_bigrams_from_forward(bigrams)\n",
    "# backward_bigrams"
   ]
  },
  {
   "cell_type": "markdown",
   "id": "e25a51dc",
   "metadata": {},
   "source": [
    "# Trigrams"
   ]
  },
  {
   "cell_type": "code",
   "execution_count": 15,
   "id": "da744c30",
   "metadata": {},
   "outputs": [],
   "source": [
    "trigrams = generate_n_grams(df['Poem'], 3)\n",
    "# trigrams"
   ]
  },
  {
   "cell_type": "markdown",
   "id": "826c5ce8",
   "metadata": {},
   "source": [
    "# Rhyming Words"
   ]
  },
  {
   "cell_type": "code",
   "execution_count": 16,
   "id": "329208e6",
   "metadata": {
    "scrolled": true
   },
   "outputs": [],
   "source": [
    "def get_rhyming_words(word):\n",
    "    if any(unigram[0][-1] == word[-1] for unigram in unigrams):\n",
    "        rhyming_words = [unigram[0] for unigram in unigrams if unigram[0][-1] == word[-1]]\n",
    "        return rhyming_words"
   ]
  },
  {
   "cell_type": "markdown",
   "id": "f5c29b5e",
   "metadata": {},
   "source": [
    "# Poetry Generation using forward bigrams"
   ]
  },
  {
   "cell_type": "code",
   "execution_count": 17,
   "id": "80bb61c5",
   "metadata": {},
   "outputs": [],
   "source": [
    "NUM_VERSES = 4\n",
    "NUM_STANZAS = 4\n",
    "SCHEDULER = 0.25  #SCHEDULER % of time choose randomly from all possible next words and (1 - SCHEDULER) % of time choose according to probabilty"
   ]
  },
  {
   "cell_type": "code",
   "execution_count": 18,
   "id": "c729bd29",
   "metadata": {},
   "outputs": [],
   "source": [
    "def generate_forward_bigram_poetry(NUM_VERSES = 4, NUM_STANZAS = 4, SCHEDULER = 0.3):\n",
    "    \n",
    "    FORWARD_BIGRAM_POETRY = []\n",
    "    for stanza in range(NUM_STANZAS):\n",
    "\n",
    "        for verse in range(NUM_VERSES):\n",
    "            one_verse = []\n",
    "            starting_word = random.choice(STARTING_WORDS)\n",
    "            one_verse.append(starting_word)\n",
    "\n",
    "            WORD_PER_VERSE = random.randint(7, 10)\n",
    "\n",
    "            for word in range(WORD_PER_VERSE):\n",
    "\n",
    "                if any(bigram[0] == starting_word for bigram in bigrams):\n",
    "                    next_word_candidates = [bigram[1] for bigram in bigrams if bigram[0] == starting_word]\n",
    "\n",
    "                    rand_num = np.random.rand(1)\n",
    "                    \n",
    "                    if(rand_num < SCHEDULER):\n",
    "                        next_word = random.choice(next_word_candidates)\n",
    "                    else:\n",
    "                        next_word = calculate_next_word_prob(next_word_candidates, one_verse[-1], bigrams, unigrams)\n",
    "\n",
    "                else:\n",
    "                    next_word = calculate_next_word_prob([], one_verse[-1], bigrams, unigrams)\n",
    "                    \n",
    "                one_verse.append(next_word)\n",
    "                starting_word = next_word\n",
    "\n",
    "            if(verse == 0):\n",
    "                last_word = one_verse[-1]\n",
    "\n",
    "            if(verse != 0):\n",
    "                rhyming_words = get_rhyming_words(last_word)\n",
    "                last_rhyming_words = [word for word in rhyming_words if word in next_word_candidates and ENDING_WORDS]\n",
    "\n",
    "                if(len(last_rhyming_words) > 0):\n",
    "                    rhyming_word = random.choice(last_rhyming_words)\n",
    "\n",
    "                else:\n",
    "                    last_rhyming_words = [word for word in rhyming_words if word in next_word_candidates]\n",
    "\n",
    "                    if(len(last_rhyming_words) > 0):\n",
    "                        rhyming_word = random.choice(last_rhyming_words)\n",
    "\n",
    "                    else:\n",
    "                        rhyming_word = random.choice(rhyming_words)\n",
    "\n",
    "                one_verse[-1] = rhyming_word\n",
    "                last_word = rhyming_word\n",
    "\n",
    "            FORWARD_BIGRAM_POETRY.append(' '.join(one_verse))\n",
    "            FORWARD_BIGRAM_POETRY.append('\\n')\n",
    "\n",
    "        FORWARD_BIGRAM_POETRY.append('\\n')\n",
    "\n",
    "    FORWARD_BIGRAM_POETRY = ''.join(FORWARD_BIGRAM_POETRY)\n",
    "    return FORWARD_BIGRAM_POETRY"
   ]
  },
  {
   "cell_type": "code",
   "execution_count": 19,
   "id": "2ffe89ef",
   "metadata": {},
   "outputs": [
    {
     "name": "stdout",
     "output_type": "stream",
     "text": [
      "زخم میں ایک ہی سہی میں نے کہا ہے کہ\n",
      "منکر تھے ہم سے تو قیس میں نے شہر نصیباں جامہ\n",
      "بیتاب سے تو ہے عہد میں نے کیا ہے یہ ماہ\n",
      "بوچھار ہے کہ ہم کسے اپنا یہ بھی نہیں ہوتی نہ\n",
      "\n",
      "پیتا نہ ہو جائے گی پھر بھی نہیں تھا\n",
      "فکر رکھتے جو چاہا تھا دیکھا ہے ترا\n",
      "ساقی مے کدہ میں ساتھ میں تری یاد کو آتا\n",
      "حادثہ یہ بھی کب لب پہ بھی ہے شراب گہرا\n",
      "\n",
      "دیوار کا ہے یہ بھی نہیں ہے کہ ہم\n",
      "پا کوئی نہیں تھا کہ ہم سے آرام\n",
      "آفرینہا بر آئی ہے یہ کھل کے ساتھ میں حریم\n",
      "کتنی مشاقی سے تو ہے حرارت قریب مرتسم\n",
      "\n",
      "تہذیب کو برتنے کا نام و فغاں کا\n",
      "سجا کے ساتھ ساتھ ساتھ ساتھ ساتھ میں ہے یہ ہوا\n",
      "ممکن ہے بکھری پڑی ہیں تیار ہجرت کے چلتا\n",
      "زمین خواب میں ہے کہ یہ کیا آفت ہے جوانی چمکا\n",
      "\n",
      "\n"
     ]
    }
   ],
   "source": [
    "FORWARD_BIGRAM_POETRY = generate_forward_bigram_poetry(NUM_VERSES, NUM_STANZAS, SCHEDULER)\n",
    "print(FORWARD_BIGRAM_POETRY)"
   ]
  },
  {
   "cell_type": "markdown",
   "id": "1b8df081",
   "metadata": {},
   "source": [
    "# Poetry Generation using backward bigrams"
   ]
  },
  {
   "cell_type": "code",
   "execution_count": 20,
   "id": "199cd37c",
   "metadata": {
    "scrolled": true
   },
   "outputs": [],
   "source": [
    "def generate_backward_bigram_poetry(NUM_VERSES = 4, NUM_STANZAS = 4, SCHEDULER = 0.3):\n",
    "\n",
    "    BACKWARD_BIGRAM_POETRY = []\n",
    "    for stanza in range(NUM_STANZAS):\n",
    "\n",
    "        for verse in range(NUM_VERSES):\n",
    "            one_verse = []\n",
    "            ending_word = random.choice(ENDING_WORDS) \n",
    "            one_verse.append(ending_word)\n",
    "\n",
    "            WORD_PER_VERSE = random.randint(7, 10)\n",
    "\n",
    "            for word in range(WORD_PER_VERSE):\n",
    "\n",
    "                # next word it actually previous word, we just reverse it at end\n",
    "                if any(back_bigram[0] == ending_word for back_bigram in backward_bigrams):\n",
    "                    next_word_candidates = [back_bigram[1] for back_bigram in backward_bigrams if back_bigram[0] == ending_word]\n",
    "\n",
    "                    rand_num = np.random.rand(1)\n",
    "                    if(rand_num < SCHEDULER):\n",
    "                        next_word = random.choice(next_word_candidates)\n",
    "                    else:\n",
    "                        next_word = calculate_next_word_prob(next_word_candidates, one_verse[-1], backward_bigrams, unigrams)\n",
    "\n",
    "                else:\n",
    "                    next_word = calculate_next_word_prob([], one_verse[-1], backward_bigrams, unigrams)\n",
    "                    \n",
    "                one_verse.append(next_word)\n",
    "                ending_word = next_word\n",
    "\n",
    "            if(verse == 0):\n",
    "                last_word = one_verse[0]\n",
    "\n",
    "            if(verse != 0):\n",
    "                rhyming_words = get_rhyming_words(last_word)\n",
    "                last_rhyming_words = [word for word in rhyming_words if word in next_word_candidates and ENDING_WORDS]\n",
    "\n",
    "                if(len(last_rhyming_words) > 0):\n",
    "                    rhyming_word = random.choice(last_rhyming_words)\n",
    "\n",
    "                else:\n",
    "                    last_rhyming_words = [word for word in rhyming_words if word in next_word_candidates]\n",
    "\n",
    "                    if(len(last_rhyming_words) > 0):\n",
    "                        rhyming_word = random.choice(last_rhyming_words)\n",
    "\n",
    "                    else:\n",
    "                        rhyming_word = random.choice(rhyming_words)\n",
    "\n",
    "                one_verse[0] = rhyming_word\n",
    "                last_word = rhyming_word\n",
    "\n",
    "            BACKWARD_BIGRAM_POETRY.append(' '.join(reversed(one_verse)))\n",
    "            BACKWARD_BIGRAM_POETRY.append('\\n')\n",
    "\n",
    "        BACKWARD_BIGRAM_POETRY.append('\\n')\n",
    "\n",
    "    BACKWARD_BIGRAM_POETRY = ''.join(BACKWARD_BIGRAM_POETRY)\n",
    "    return BACKWARD_BIGRAM_POETRY"
   ]
  },
  {
   "cell_type": "code",
   "execution_count": 21,
   "id": "8b6798bd",
   "metadata": {},
   "outputs": [
    {
     "name": "stdout",
     "output_type": "stream",
     "text": [
      "وحشت میں کسی صورت میں نے کہا پردا\n",
      "میں ہے ہم سے دشمنی میں ہے نہ بنے غم بقا\n",
      "ہیں یہ شکوہ بجا دیکھا زخم جگر جانا\n",
      "خراب ہے نہ جاوے اس کا مطالعہ ہے لگتا\n",
      "\n",
      "میں روک دے مار کر رہا ہے دل پہ سزا\n",
      "چار پنج و نے مجھ سے عدو سے زیادہ بھوکا\n",
      "جو مٹ نہ ہو رہا ہے ہم کو دے یا تھا\n",
      "مغرور ہوں میں ڈر ہے یہ دنیا میں وہ اٹھا\n",
      "\n",
      "کا شوق تو ہو رہا ہے دل والو\n",
      "اس کے حبابؔ تیرے پاس تیر رہا ہے کوئی آرزو\n",
      "خود کشی تصویر کی لاشیں کدھر گئی دانت میں ہے سمو\n",
      "اچھا یاد آتی اس کے عالم گداز و مہ کو\n",
      "\n",
      "دل میں ہے دل میں دل و بام\n",
      "کی ایسی الجھن ہو رہا ہے مری انتظام\n",
      "نہ تھا آ رہے ہیں یہ کون قید ہستی برنگ ستم\n",
      "ہے تو کہاں فرصت گناہ میں کون سی بام\n",
      "\n",
      "\n"
     ]
    }
   ],
   "source": [
    "BACKWARD_BIGRAM_POETRY = generate_backward_bigram_poetry(NUM_VERSES, NUM_STANZAS, SCHEDULER)\n",
    "print(BACKWARD_BIGRAM_POETRY)"
   ]
  },
  {
   "cell_type": "markdown",
   "id": "b4dcaad4",
   "metadata": {},
   "source": [
    "# Poetry Generation using trigrams"
   ]
  },
  {
   "cell_type": "code",
   "execution_count": 22,
   "id": "7ffb34e4",
   "metadata": {},
   "outputs": [],
   "source": [
    "def generate_trigram_poetry(NUM_VERSES = 4, NUM_STANZAS = 4, SCHEDULER = 0.3):\n",
    "\n",
    "    TRIGRAM_POETRY = []\n",
    "    for stanza in range(NUM_STANZAS):\n",
    "\n",
    "        for verse in range(NUM_VERSES):\n",
    "            one_verse = []\n",
    "            starting_word = random.choice(STARTING_WORDS)\n",
    "            one_verse.append(starting_word)\n",
    "\n",
    "            # for next word use bigram:\n",
    "            if any(bigram[0] == starting_word for bigram in bigrams):\n",
    "                next_word_candidates = [bigram[1] for bigram in bigrams if bigram[0] == starting_word]\n",
    "                next_word = calculate_next_word_prob(next_word_candidates, one_verse[-1], bigrams, unigrams)\n",
    "            \n",
    "            #--\n",
    "            else:\n",
    "                next_word = calculate_next_word_prob([], one_verse[-1], bigrams, unigrams)\n",
    "\n",
    "            one_verse.append(next_word)\n",
    "            starting_word = next_word\n",
    "\n",
    "            WORD_PER_VERSE = random.randint(7, 9)\n",
    "\n",
    "            for word in range(WORD_PER_VERSE):\n",
    "\n",
    "                if any(trigram[0] == one_verse[-2] and trigram[1] == one_verse[-1] for trigram in trigrams):\n",
    "                    next_word_candidates = [trigram[2] for trigram in trigrams if trigram[0] == one_verse[-2] and trigram[1] == one_verse[-1]]\n",
    "\n",
    "                    rand_num = np.random.rand(1)\n",
    "                    if(rand_num < SCHEDULER):\n",
    "                         next_word = random.choice(next_word_candidates)\n",
    "                    else:\n",
    "                        next_word = calculate_next_word_prob(next_word_candidates, one_verse[-2:], trigrams, bigrams)\n",
    "                        \n",
    "                else:\n",
    "                    next_word = calculate_next_word_prob([], one_verse[-2:], trigrams, bigrams)\n",
    "\n",
    "                one_verse.append(next_word)\n",
    "                starting_word = next_word\n",
    "\n",
    "            if(verse == 0):\n",
    "                last_word = one_verse[-1]\n",
    "\n",
    "            if(verse != 0):\n",
    "                rhyming_words = get_rhyming_words(last_word)\n",
    "                last_rhyming_words = [word for word in rhyming_words if word in next_word_candidates and ENDING_WORDS]\n",
    "\n",
    "                if(len(last_rhyming_words) > 0):\n",
    "                    rhyming_word = random.choice(last_rhyming_words)\n",
    "\n",
    "                else:\n",
    "                    last_rhyming_words = [word for word in rhyming_words if word in next_word_candidates]\n",
    "\n",
    "                    if(len(last_rhyming_words) > 0):\n",
    "                        rhyming_word = random.choice(last_rhyming_words)\n",
    "\n",
    "                    else:\n",
    "                        rhyming_word = random.choice(rhyming_words)\n",
    "\n",
    "                one_verse[-1] = rhyming_word\n",
    "                last_word = rhyming_word\n",
    "\n",
    "            TRIGRAM_POETRY.append(' '.join(one_verse))\n",
    "            TRIGRAM_POETRY.append('\\n')\n",
    "\n",
    "        TRIGRAM_POETRY.append('\\n')\n",
    "\n",
    "    TRIGRAM_POETRY = ''.join(TRIGRAM_POETRY)\n",
    "    return TRIGRAM_POETRY"
   ]
  },
  {
   "cell_type": "code",
   "execution_count": 23,
   "id": "f38985db",
   "metadata": {},
   "outputs": [
    {
     "name": "stdout",
     "output_type": "stream",
     "text": [
      "محرومیٔ حیات پہ روتا تو میں ضائع یہ اداسی کر رہا\n",
      "سجا کر بھینٹ کیے ہیں ہمدردی کے چند تاجر مانتا\n",
      "گیتوں کو دفنا دو یہیں پر چیخوں کے اسلوب جنم حوا\n",
      "کشش جدھر بھی دیکھا تو آنکھ بھر آئی پھنسایا\n",
      "\n",
      "دور کے وحشی انساں سے ارتباط آثمؔ جہان میں شہ\n",
      "فطرت بھی مگر جو عہد کر لینا وہ گزشتہ\n",
      "وحشت میں ہے اعتبار کی صورت نظر سوز وہ رخ وہ\n",
      "بلائے گا بے دست و گریبان ہیں وہی جو تلاش باغیانہ\n",
      "\n",
      "گوتم پھر بھی کسی کے دل ریگ زار کرتی\n",
      "پئے پیکار کوئی ملتا نہیں ہے یہ مکاں سیانی\n",
      "نکلنا بستیوں کو شمار کرنا مجھے تو اس کشتی\n",
      "جھکی جاتی ہے ہم نے بالارادہ کیا ہم انہی\n",
      "\n",
      "فاش کر دوں مگر سفید کبوتر خلاف رہتا ہے\n",
      "مجمر سینہ منے کیوں نہ پھر بھی مرا مرتبہ اترانے\n",
      "پسند بہت یہاں فصیل حفاظت ابھی نہ رکھی جائے ہمارے چاہئے\n",
      "کرو وقت سرود درد کا انبار لگایا کب تھا اتنے سنہرے\n",
      "\n",
      "\n"
     ]
    }
   ],
   "source": [
    "TRIGRAM_POETRY = generate_trigram_poetry(NUM_VERSES, NUM_STANZAS, SCHEDULER)\n",
    "print(TRIGRAM_POETRY)"
   ]
  },
  {
   "cell_type": "markdown",
   "id": "a3fea0fe",
   "metadata": {},
   "source": [
    "# Poetry Generation using Bidirectional Bigrams"
   ]
  },
  {
   "cell_type": "code",
   "execution_count": 24,
   "id": "fe90415b",
   "metadata": {},
   "outputs": [],
   "source": [
    "# def generate_bidirectional_bigram_poetry(NUM_VERSES = 4, NUM_STANZAS = 4, SCHEDULER = 0.3):\n",
    "\n",
    "#     BIDIRECTIONAL_BIGRAM_POETRY = []\n",
    "#     for stanza in range(NUM_STANZAS):\n",
    "\n",
    "#         for verse in range(NUM_VERSES):\n",
    "#             one_verse = []\n",
    "#             current_word = random.choice(list(unigrams.keys()))[0]\n",
    "#             one_verse.append(current_word)\n",
    "            \n",
    "#             current_word_b, current_word_f = current_word, current_word\n",
    "#             WORD_PER_VERSE = random.randint(7, 10)\n",
    "\n",
    "#             for word in range(0, WORD_PER_VERSE, 2):\n",
    "\n",
    "#                 if (any(back_bigram[0] == current_word_b for back_bigram in backward_bigrams) and\n",
    "#                     any(bigram[0] == current_word_f for bigram in bigrams)):\n",
    "\n",
    "#                     prev_word_candidates = [back_bigram[1] for back_bigram in backward_bigrams if back_bigram[0] == current_word_b]\n",
    "#                     next_word_candidates = [bigram[1] for bigram in bigrams if bigram[0] == current_word_f]\n",
    "\n",
    "#                     rand_num = np.random.rand(1)\n",
    "#                     if(rand_num < SCHEDULER):\n",
    "#                         prev_word = random.choice(prev_word_candidates)\n",
    "#                         next_word = random.choice(next_word_candidates)\n",
    "#                     else:\n",
    "#                         prev_word = calculate_next_word_prob(prev_word_candidates, one_verse[0], backward_bigrams, unigrams)\n",
    "#                         next_word = calculate_next_word_prob(next_word_candidates, one_verse[-1], bigrams, unigrams)\n",
    "\n",
    "#                 else:\n",
    "#                     prev_word = calculate_next_word_prob([], one_verse[0], backward_bigrams, unigrams)\n",
    "#                     next_word = calculate_next_word_prob([], one_verse[-1], bigrams, unigrams)\n",
    "                    \n",
    "#                 one_verse.append(next_word)\n",
    "#                 one_verse.insert(0, prev_word)\n",
    "\n",
    "#                 current_word_b = prev_word\n",
    "#                 current_word_f = next_word\n",
    "\n",
    "#             if(verse == 0):\n",
    "#                 last_word = one_verse[-1]\n",
    "\n",
    "#             if(verse != 0):\n",
    "#                 rhyming_words = get_rhyming_words(last_word)\n",
    "#                 last_rhyming_words = [word for word in rhyming_words if word in next_word_candidates and ENDING_WORDS]\n",
    "\n",
    "#                 if(len(last_rhyming_words) > 0):\n",
    "#                     rhyming_word = random.choice(last_rhyming_words)\n",
    "\n",
    "#                 else:\n",
    "#                     last_rhyming_words = [word for word in rhyming_words if word in next_word_candidates]\n",
    "\n",
    "#                     if(len(last_rhyming_words) > 0):\n",
    "#                         rhyming_word = random.choice(last_rhyming_words)\n",
    "\n",
    "#                     else:\n",
    "#                         rhyming_word = random.choice(rhyming_words)\n",
    "\n",
    "#                 one_verse[-1] = rhyming_word\n",
    "#                 last_word = rhyming_word\n",
    "\n",
    "#             BIDIRECTIONAL_BIGRAM_POETRY.append(' '.join(one_verse))\n",
    "#             BIDIRECTIONAL_BIGRAM_POETRY.append('\\n')\n",
    "\n",
    "#         BIDIRECTIONAL_BIGRAM_POETRY.append('\\n')\n",
    "\n",
    "#     BIDIRECTIONAL_BIGRAM_POETRY = ''.join(BIDIRECTIONAL_BIGRAM_POETRY)\n",
    "#     return BIDIRECTIONAL_BIGRAM_POETRY"
   ]
  },
  {
   "cell_type": "code",
   "execution_count": 25,
   "id": "dcdea3cb",
   "metadata": {},
   "outputs": [],
   "source": [
    "def generate_bidirectional_bigram_poetry(NUM_VERSES = 4, NUM_STANZAS = 4, SCHEDULER = 0.3):\n",
    "\n",
    "    BIDIRECTIONAL_BIGRAM_POETRY = []\n",
    "    BIGRAMS = {**bigrams, **backward_bigrams}\n",
    "    \n",
    "    for stanza in range(NUM_STANZAS):\n",
    "\n",
    "        for verse in range(NUM_VERSES):\n",
    "            one_verse = []\n",
    "            current_word = random.choice(STARTING_WORDS)\n",
    "            one_verse.append(current_word)\n",
    "            WORD_PER_VERSE = random.randint(7, 10)\n",
    "\n",
    "            for word in range(WORD_PER_VERSE):\n",
    "\n",
    "                if (any(bigram[0] == current_word for bigram in BIGRAMS)):\n",
    "\n",
    "                    next_word_candidates = [bigram[1] for bigram in BIGRAMS if bigram[0] == current_word]\n",
    "\n",
    "                    rand_num = np.random.rand(1)\n",
    "                    if(rand_num < SCHEDULER):\n",
    "                        next_word = random.choice(next_word_candidates)\n",
    "                    else:\n",
    "                        next_word = calculate_next_word_prob(next_word_candidates, one_verse[-1], BIGRAMS, unigrams)\n",
    "                \n",
    "                else:\n",
    "                    next_word = calculate_next_word_prob([], one_verse[-1], bigrams, unigrams)\n",
    "\n",
    "                one_verse.append(next_word)\n",
    "                current_word = next_word\n",
    "\n",
    "            if(verse == 0):\n",
    "                last_word = one_verse[-1]\n",
    "\n",
    "            if(verse != 0):\n",
    "                rhyming_words = get_rhyming_words(last_word)\n",
    "                last_rhyming_words = [word for word in rhyming_words if word in next_word_candidates and ENDING_WORDS]\n",
    "\n",
    "                if(len(last_rhyming_words) > 0):\n",
    "                    rhyming_word = random.choice(last_rhyming_words)\n",
    "\n",
    "                else:\n",
    "                    last_rhyming_words = [word for word in rhyming_words if word in next_word_candidates]\n",
    "\n",
    "                    if(len(last_rhyming_words) > 0):\n",
    "                        rhyming_word = random.choice(last_rhyming_words)\n",
    "\n",
    "                    else:\n",
    "                        rhyming_word = random.choice(rhyming_words)\n",
    "\n",
    "                one_verse[-1] = rhyming_word\n",
    "                last_word = rhyming_word\n",
    "\n",
    "            BIDIRECTIONAL_BIGRAM_POETRY.append(' '.join(one_verse))\n",
    "            BIDIRECTIONAL_BIGRAM_POETRY.append('\\n')\n",
    "\n",
    "        BIDIRECTIONAL_BIGRAM_POETRY.append('\\n')\n",
    "\n",
    "    BIDIRECTIONAL_BIGRAM_POETRY = ''.join(BIDIRECTIONAL_BIGRAM_POETRY)\n",
    "    return BIDIRECTIONAL_BIGRAM_POETRY"
   ]
  },
  {
   "cell_type": "code",
   "execution_count": 26,
   "id": "920b0d3e",
   "metadata": {},
   "outputs": [
    {
     "name": "stdout",
     "output_type": "stream",
     "text": [
      "آسماں ہے رہا ہوں رہا ہو کیسا منظر ڈھلتا سے ہم\n",
      "برنگ ہستی میں واہ اور فکر بیعت نجوم\n",
      "تماش حیات میں ہوں بھی میں ہوں چشم\n",
      "پینے سے ہم باہر نکل آئے گھر کو ہم رقم\n",
      "\n",
      "بھروسہ غیر کے اس میں دل پتھر وہ میں تنگ دست\n",
      "ریاست داشتہ پر بدل گئی ہے رہا لکھتے چپت\n",
      "مثل کی ہے نور آپ کی صورت کی ہے مہلت\n",
      "موجزن ہے میں زیر اثر کا اس ہے زیست\n",
      "\n",
      "سرایت کر چکے انہیں ہے رہا بھی میں دل میں\n",
      "لاڈ اوس کی ہے رہا ہو جائے ہو نہ میں فائلوں\n",
      "سرخیٔ جمال و شش دے اگر نہ ہے میں دل نشیں\n",
      "دعا کا ہے میں دل ہے خیال کا اس ہے ہنسیں\n",
      "\n",
      "رہے کرتے ہوئے ہیں جاتے ہیں جاتے اتارے جاتے اتارے جاتے\n",
      "جام مے خانہ سفیران خانہ خمار شب میں دل کہو بولتے\n",
      "زمین خواب آتی ان کی ہے میں ہوں بھی میں پڑھنے\n",
      "برسات جب ہے میں ہوں رہا ہوں رہا لکھتے\n",
      "\n",
      "\n"
     ]
    }
   ],
   "source": [
    "BIDIRECTIONAL_BIGRAM_POETRY = generate_bidirectional_bigram_poetry(NUM_VERSES, NUM_STANZAS, SCHEDULER)\n",
    "print(BIDIRECTIONAL_BIGRAM_POETRY)"
   ]
  },
  {
   "cell_type": "markdown",
   "id": "c72d0c29",
   "metadata": {},
   "source": [
    "# Comparing models by calculating perplexity"
   ]
  },
  {
   "cell_type": "code",
   "execution_count": 27,
   "id": "1587959a",
   "metadata": {},
   "outputs": [],
   "source": [
    "def calculate_ngram_probs(n_gram_counts, n_1_gram_counts):\n",
    "    n_gram_probs = {}\n",
    "    \n",
    "    for n_gram, n_gram_count in n_gram_counts.items():\n",
    "        \n",
    "        n_1_words = n_gram[:-1]  # Get n-1 tokens or words\n",
    "        n_1_words_count = n_1_gram_counts[n_1_words]  # Count of n_1_words in the corpus\n",
    "        prob = n_gram_count / n_1_words_count\n",
    "        prob = (n_gram_count + 1) / (n_1_words_count + len(unigrams))\n",
    "        n_gram_probs[n_gram] = prob\n",
    "        \n",
    "    return n_gram_probs"
   ]
  },
  {
   "cell_type": "code",
   "execution_count": 28,
   "id": "1d93f227",
   "metadata": {},
   "outputs": [],
   "source": [
    "def calculate_perplexity(poetry, n, n_grams_probs):\n",
    "    total_log_prob = 0\n",
    "    word_count = 0\n",
    "    \n",
    "    poetry = poetry.replace('\\n', ' ').split()\n",
    "#     print(poetry)\n",
    "    \n",
    "    for i in range(len(poetry) - n + 1):\n",
    "        n_gram = tuple(poetry[i: i + n])\n",
    "        \n",
    "        if (n_gram in n_grams_probs):\n",
    "            total_log_prob += math.log(n_grams_probs[n_gram])\n",
    "            \n",
    "        else:\n",
    "            total_log_prob += math.log(1 / (unigrams[(n_gram[0])] + (len(unigrams))))\n",
    "        word_count += 1\n",
    "        \n",
    "    avg_log_prob = total_log_prob / word_count\n",
    "    perplexity = math.exp(-avg_log_prob)\n",
    "    \n",
    "    return perplexity"
   ]
  },
  {
   "cell_type": "code",
   "execution_count": 29,
   "id": "4bf8b2af",
   "metadata": {},
   "outputs": [
    {
     "name": "stdout",
     "output_type": "stream",
     "text": [
      "یہ کیسا کار دنیا ہو رہا ہے\n",
      "لہو انساں کا سستا ہو رہا ہے\n",
      "ذرا حالات کیا بدلے ہمارے\n",
      "جو اپنا تھا پرایا ہو رہا ہے\n",
      "دلوں کا میل بڑھتا جا رہا ہے\n",
      "بشر اندر سے کالا ہو رہا ہے\n",
      "گھٹائیں خشک ہوتی جا رہی ہیں\n",
      "جو دریا تھا وہ صحرا ہو رہا ہے\n",
      "یہی ہوتا رہا ہے ہم سے اکثر\n",
      "ہمارے ساتھ جیسا ہو رہا ہے\n",
      "قدم پڑنے لگے ہیں سب کے الٹے\n",
      "ہر اک رستہ ہی ٹیڑھا ہو رہا ہے\n",
      "نبیلؔ احمد کبھی دیکھا ہے تم نے\n",
      "بشر کتنا اکیلا ہو رہا ہے\n"
     ]
    }
   ],
   "source": [
    "test_data = df['Poem'][np.random.randint(0, len(df))]\n",
    "print(test_data)"
   ]
  },
  {
   "cell_type": "code",
   "execution_count": 30,
   "id": "5ad9684a",
   "metadata": {},
   "outputs": [
    {
     "name": "stdout",
     "output_type": "stream",
     "text": [
      "Perplexity for Forward Bigrams is :\t\t1282.1683551242288\n",
      "Perplexity for Backward Bigrams is :\t\t4856.065490626827\n",
      "Perplexity for Bidirectional Bigrams is :\t2367.717978941257\n",
      "Perplexity for Trigrams is :\t\t\t2400.5135242257743\n"
     ]
    }
   ],
   "source": [
    "forward_perplex = calculate_perplexity(test_data, 2, calculate_ngram_probs(bigrams, unigrams))\n",
    "backward_perplex = calculate_perplexity(test_data, 2, calculate_ngram_probs(backward_bigrams, unigrams))\n",
    "trigram_perplex = calculate_perplexity(test_data, 3, calculate_ngram_probs(trigrams, bigrams))\n",
    "bidirectional_perplex = calculate_perplexity(test_data, 2, calculate_ngram_probs({**bigrams, **backward_bigrams}, unigrams))\n",
    "\n",
    "print(f\"Perplexity for Forward Bigrams is :\\t\\t{forward_perplex}\")\n",
    "print(f\"Perplexity for Backward Bigrams is :\\t\\t{backward_perplex}\")\n",
    "print(f\"Perplexity for Bidirectional Bigrams is :\\t{bidirectional_perplex}\")\n",
    "print(f\"Perplexity for Trigrams is :\\t\\t\\t{trigram_perplex}\")"
   ]
  },
  {
   "cell_type": "markdown",
   "id": "2ff78116",
   "metadata": {},
   "source": [
    "# More testing"
   ]
  },
  {
   "cell_type": "code",
   "execution_count": 31,
   "id": "473e05db",
   "metadata": {},
   "outputs": [
    {
     "name": "stdout",
     "output_type": "stream",
     "text": [
      "FOR EXAMPLE NO. 129\n",
      "\n",
      "Perplexity for Forward Bigrams is :\t\t2137.9886183158806\n",
      "Perplexity for Backward Bigrams is :\t\t5040.467715877004\n",
      "Perplexity for Bidirectional Bigrams is :\t2223.0928661327534\n",
      "Perplexity for Trigrams is :\t\t\t2965.2832524976566\n",
      "-------------------------------------------------------------------------------\n",
      "FOR EXAMPLE NO. 184\n",
      "\n",
      "Perplexity for Forward Bigrams is :\t\t1226.4977307111221\n",
      "Perplexity for Backward Bigrams is :\t\t3478.9088992642273\n",
      "Perplexity for Bidirectional Bigrams is :\t1476.0749661607338\n",
      "Perplexity for Trigrams is :\t\t\t2427.702030187811\n",
      "-------------------------------------------------------------------------------\n",
      "FOR EXAMPLE NO. 314\n",
      "\n",
      "Perplexity for Forward Bigrams is :\t\t1847.255281383883\n",
      "Perplexity for Backward Bigrams is :\t\t5011.176034219181\n",
      "Perplexity for Bidirectional Bigrams is :\t2093.0008709603426\n",
      "Perplexity for Trigrams is :\t\t\t2999.9199049693543\n",
      "-------------------------------------------------------------------------------\n",
      "FOR EXAMPLE NO. 268\n",
      "\n",
      "Perplexity for Forward Bigrams is :\t\t1570.9705614815596\n",
      "Perplexity for Backward Bigrams is :\t\t4518.212302944126\n",
      "Perplexity for Bidirectional Bigrams is :\t1897.9710389410552\n",
      "Perplexity for Trigrams is :\t\t\t2485.849802102526\n",
      "-------------------------------------------------------------------------------\n",
      "FOR EXAMPLE NO. 376\n",
      "\n",
      "Perplexity for Forward Bigrams is :\t\t1956.1312155626463\n",
      "Perplexity for Backward Bigrams is :\t\t4091.067709625304\n",
      "Perplexity for Bidirectional Bigrams is :\t2106.9577957690262\n",
      "Perplexity for Trigrams is :\t\t\t2970.6950235597806\n",
      "-------------------------------------------------------------------------------\n",
      "FOR EXAMPLE NO. 196\n",
      "\n",
      "Perplexity for Forward Bigrams is :\t\t1619.3378490269797\n",
      "Perplexity for Backward Bigrams is :\t\t3338.6724688898303\n",
      "Perplexity for Bidirectional Bigrams is :\t1765.8585183789137\n",
      "Perplexity for Trigrams is :\t\t\t3003.0123344748336\n",
      "-------------------------------------------------------------------------------\n",
      "FOR EXAMPLE NO. 68\n",
      "\n",
      "Perplexity for Forward Bigrams is :\t\t2099.6646607171356\n",
      "Perplexity for Backward Bigrams is :\t\t5166.173196299738\n",
      "Perplexity for Bidirectional Bigrams is :\t2303.610611842425\n",
      "Perplexity for Trigrams is :\t\t\t3027.289104302988\n",
      "-------------------------------------------------------------------------------\n"
     ]
    }
   ],
   "source": [
    "for idx in random.sample(list(np.arange(len(df))), k=7):\n",
    "    \n",
    "    test_data = df['Poem'][idx]\n",
    "    \n",
    "    forward_perplex = calculate_perplexity(test_data, 2, calculate_ngram_probs(bigrams, unigrams))\n",
    "    backward_perplex = calculate_perplexity(test_data, 2, calculate_ngram_probs(backward_bigrams, unigrams))\n",
    "    trigram_perplex = calculate_perplexity(test_data, 3, calculate_ngram_probs(trigrams, bigrams))\n",
    "    bidirectional_perplex = calculate_perplexity(test_data, 2, calculate_ngram_probs({**bigrams, **backward_bigrams}, unigrams))\n",
    "\n",
    "    print(f\"FOR EXAMPLE NO. {idx}\\n\")\n",
    "    \n",
    "    print(f\"Perplexity for Forward Bigrams is :\\t\\t{forward_perplex}\")\n",
    "    print(f\"Perplexity for Backward Bigrams is :\\t\\t{backward_perplex}\")\n",
    "    print(f\"Perplexity for Bidirectional Bigrams is :\\t{bidirectional_perplex}\")\n",
    "    print(f\"Perplexity for Trigrams is :\\t\\t\\t{trigram_perplex}\")\n",
    "    \n",
    "    print('-------------------------------------------------------------------------------')"
   ]
  },
  {
   "cell_type": "markdown",
   "id": "ba1068c9",
   "metadata": {},
   "source": [
    "# Poetry Generation using Poet's name"
   ]
  },
  {
   "cell_type": "code",
   "execution_count": null,
   "id": "684a3e63",
   "metadata": {},
   "outputs": [
    {
     "name": "stdout",
     "output_type": "stream",
     "text": [
      "Select a Poet name from the following list\n",
      "\n",
      "فیض احمد فیض .1\n",
      "کیف احمد صدیقی .2\n",
      "آنس معین .3\n",
      "خورشید اکبر .4\n",
      "ارم زہرا .5\n",
      "عامر اظہر .6\n",
      "وکرم .7\n",
      "نبیل احمد نبیل .8\n",
      "عابد جعفری .9\n",
      "حباب ہاشمی .10\n",
      "فیصل عظیم .11\n",
      "فہیم شناس کاظمی .12\n",
      "فیصل ملک .13\n",
      "زہرا علوی .14\n",
      "آشو مشرا .15\n",
      "عابد ادیب .16\n",
      "فاضل جمیلی .17\n",
      "ایم آئی ظاہر .18\n",
      "ایم کوٹھیاوی راہی .19\n",
      "انور دہلوی .20\n",
      "حسرتؔ عظیم آبادی .21\n",
      "عبید اللہ خاں مبتلا .22\n",
      "توفیق حیدرآبادی .23\n",
      "سید نظیر حسن سخا دہلوی .24\n",
      "شاہ آثم .25\n",
      "\n",
      "\n"
     ]
    }
   ],
   "source": [
    "df_poet = None\n",
    "all_poets = df['Poet name'].unique()\n",
    "\n",
    "print(f\"Select a Poet name from the following list\\n\")\n",
    "for idx, poet_name in enumerate(all_poets):\n",
    "    print(f\"{poet_name} .{idx+1}\")\n",
    "    \n",
    "print('\\n')\n",
    "poet = input(\"Enter poet name\\n\")\n",
    "print('\\n')\n",
    "\n",
    "if (poet in all_poets):\n",
    "    df_poet = df[df['Poet name'] == poet].reset_index(drop=True)\n",
    "else:\n",
    "    print(f\"Poet not found in corpus\")"
   ]
  },
  {
   "cell_type": "code",
   "execution_count": null,
   "id": "b13c702e",
   "metadata": {},
   "outputs": [],
   "source": [
    "df_poet"
   ]
  },
  {
   "cell_type": "code",
   "execution_count": null,
   "id": "293cb166",
   "metadata": {},
   "outputs": [],
   "source": [
    "STARTING_WORDS = []\n",
    "ENDING_WORDS = []\n",
    "\n",
    "STARTING_WORDS, ENDING_WORDS = get_start_end_words(df_poet['Poem'])\n",
    "print(f\"Total number of starting words: {len(STARTING_WORDS)}\")\n",
    "print(f\"Total number of ending words: {len(ENDING_WORDS)}\")"
   ]
  },
  {
   "cell_type": "code",
   "execution_count": null,
   "id": "4a4626d2",
   "metadata": {},
   "outputs": [],
   "source": [
    "unigrams = generate_n_grams(df_poet['Poem'], 1) \n",
    "bigrams = generate_n_grams(df_poet['Poem'], 2)\n",
    "backward_bigrams = generate_backward_bigrams_from_forward(bigrams)\n",
    "trigrams = generate_n_grams(df_poet['Poem'], 3)"
   ]
  },
  {
   "cell_type": "code",
   "execution_count": null,
   "id": "85847296",
   "metadata": {},
   "outputs": [],
   "source": [
    "FORWARD_BIGRAM_POETRY = generate_forward_bigram_poetry(NUM_VERSES, NUM_STANZAS, SCHEDULER)\n",
    "print(FORWARD_BIGRAM_POETRY)"
   ]
  },
  {
   "cell_type": "code",
   "execution_count": null,
   "id": "611247af",
   "metadata": {},
   "outputs": [],
   "source": [
    "BACKWARD_BIGRAM_POETRY = generate_backward_bigram_poetry(NUM_VERSES, NUM_STANZAS, SCHEDULER)\n",
    "print(BACKWARD_BIGRAM_POETRY)"
   ]
  },
  {
   "cell_type": "code",
   "execution_count": null,
   "id": "22181079",
   "metadata": {},
   "outputs": [],
   "source": [
    "TRIGRAM_POETRY = generate_trigram_poetry(NUM_VERSES, NUM_STANZAS, SCHEDULER)\n",
    "print(TRIGRAM_POETRY)"
   ]
  },
  {
   "cell_type": "code",
   "execution_count": null,
   "id": "19e71138",
   "metadata": {},
   "outputs": [],
   "source": [
    "generated_poems = {\n",
    "    'FORWARD BIGRAM': FORWARD_BIGRAM_POETRY, \n",
    "    'BACKWARD BIGRAM': BACKWARD_BIGRAM_POETRY, \n",
    "    'TRIGRAM': TRIGRAM_POETRY, \n",
    "    'BIDIRECTIONAL BIGRAM': BIDIRECTIONAL_BIGRAM_POETRY}\n",
    "\n",
    "for name, test_data in generated_poems.items():\n",
    "    forward_perplex = calculate_perplexity(test_data, 2, calculate_ngram_probs(bigrams, unigrams))\n",
    "    backward_perplex = calculate_perplexity(test_data, 2, calculate_ngram_probs(backward_bigrams, unigrams))\n",
    "    trigram_perplex = calculate_perplexity(test_data, 3, calculate_ngram_probs(trigrams, bigrams))\n",
    "    bidirectional_perplex = calculate_perplexity(test_data, 2, calculate_ngram_probs({**bigrams, **backward_bigrams}, unigrams))\n",
    "\n",
    "    print(f\"FOR {name} POETRY/POEM: \\n\")\n",
    "    \n",
    "    print(f\"Perplexity for Forward Bigrams is :\\t\\t{forward_perplex}\")\n",
    "    print(f\"Perplexity for Backward Bigrams is :\\t\\t{backward_perplex}\")\n",
    "    print(f\"Perplexity for Bidirectional Bigrams is :\\t{bidirectional_perplex}\")\n",
    "    print(f\"Perplexity for Trigrams is :\\t\\t\\t{trigram_perplex}\")\n",
    "    \n",
    "    print('-------------------------------------------------------------------------------')"
   ]
  },
  {
   "cell_type": "markdown",
   "id": "4f17d1da",
   "metadata": {},
   "source": [
    "#### Lowest perplexity is observed for trigram and backward bigram model in all cases."
   ]
  }
 ],
 "metadata": {
  "kernelspec": {
   "display_name": "Python 3 (ipykernel)",
   "language": "python",
   "name": "python3"
  },
  "language_info": {
   "codemirror_mode": {
    "name": "ipython",
    "version": 3
   },
   "file_extension": ".py",
   "mimetype": "text/x-python",
   "name": "python",
   "nbconvert_exporter": "python",
   "pygments_lexer": "ipython3",
   "version": "3.9.12"
  }
 },
 "nbformat": 4,
 "nbformat_minor": 5
}
